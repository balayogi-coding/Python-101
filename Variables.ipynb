{
 "cells": [
  {
   "cell_type": "markdown",
   "id": "568e9f66",
   "metadata": {},
   "source": [
    "# Variables"
   ]
  },
  {
   "cell_type": "markdown",
   "id": "e50339dc",
   "metadata": {},
   "source": [
    "<h3><b>Printing statement</b></h3>"
   ]
  },
  {
   "cell_type": "code",
   "execution_count": 1,
   "id": "a18ae7ef",
   "metadata": {},
   "outputs": [
    {
     "name": "stdout",
     "output_type": "stream",
     "text": [
      "welcome you to my channel\n",
      "10\n"
     ]
    }
   ],
   "source": [
    "print(\"welcome you to my channel\")\n",
    "print(10)\n",
    "\n",
    "# Ctrl + enter = run the cell"
   ]
  },
  {
   "cell_type": "markdown",
   "id": "907c1430",
   "metadata": {},
   "source": [
    "<h3><b>Variable declaration</b></h3>"
   ]
  },
  {
   "cell_type": "code",
   "execution_count": 2,
   "id": "ad2255cc",
   "metadata": {},
   "outputs": [],
   "source": [
    "# Importing packages\n",
    "import sys\n",
    "\n",
    "# Declating variables\n",
    "myInt = 10\n",
    "myFloat = 3.14\n",
    "myString = \"hello\"\n",
    "myBool = True"
   ]
  },
  {
   "cell_type": "code",
   "execution_count": 3,
   "id": "4dded48c",
   "metadata": {},
   "outputs": [
    {
     "name": "stdout",
     "output_type": "stream",
     "text": [
      "28\n",
      "24\n",
      "54\n",
      "28\n"
     ]
    }
   ],
   "source": [
    "# __sizeof__() function\n",
    "print(myInt.__sizeof__())\n",
    "print(myFloat.__sizeof__())\n",
    "print(myString.__sizeof__())\n",
    "print(myBool.__sizeof__())"
   ]
  },
  {
   "cell_type": "code",
   "execution_count": 4,
   "id": "4ffc89da",
   "metadata": {},
   "outputs": [
    {
     "name": "stdout",
     "output_type": "stream",
     "text": [
      "28\n",
      "24\n",
      "54\n",
      "28\n"
     ]
    }
   ],
   "source": [
    "# getsizeof() function\n",
    "print(sys.getsizeof(myInt))\n",
    "print(sys.getsizeof(myFloat))\n",
    "print(sys.getsizeof(myString))\n",
    "print(sys.getsizeof(myBool))"
   ]
  },
  {
   "cell_type": "code",
   "execution_count": 5,
   "id": "16c17888",
   "metadata": {},
   "outputs": [],
   "source": [
    "# scope of variables\n",
    "# Global variable\n",
    "gvalue = 1\n",
    "\n",
    "def func():\n",
    "    # Local variable\n",
    "    lvalue = 0\n",
    "    print(lvalue)\n",
    "    print(gvalue)"
   ]
  },
  {
   "cell_type": "code",
   "execution_count": 6,
   "id": "942bc2ae",
   "metadata": {},
   "outputs": [
    {
     "ename": "NameError",
     "evalue": "name 'lvalue' is not defined",
     "output_type": "error",
     "traceback": [
      "\u001b[1;31m---------------------------------------------------------------------------\u001b[0m",
      "\u001b[1;31mNameError\u001b[0m                                 Traceback (most recent call last)",
      "\u001b[1;32m<ipython-input-6-98d6b346eeb5>\u001b[0m in \u001b[0;36m<module>\u001b[1;34m\u001b[0m\n\u001b[0;32m      1\u001b[0m \u001b[1;31m# Local variable can't access outside the scope in this case function\u001b[0m\u001b[1;33m\u001b[0m\u001b[1;33m\u001b[0m\u001b[1;33m\u001b[0m\u001b[0m\n\u001b[1;32m----> 2\u001b[1;33m \u001b[0mlvalue\u001b[0m\u001b[1;33m\u001b[0m\u001b[1;33m\u001b[0m\u001b[0m\n\u001b[0m",
      "\u001b[1;31mNameError\u001b[0m: name 'lvalue' is not defined"
     ]
    }
   ],
   "source": [
    "# Local variable can't access outside the scope in this case function\n",
    "lvalue"
   ]
  },
  {
   "cell_type": "code",
   "execution_count": 7,
   "id": "57db1651",
   "metadata": {},
   "outputs": [
    {
     "data": {
      "text/plain": [
       "1"
      ]
     },
     "execution_count": 7,
     "metadata": {},
     "output_type": "execute_result"
    }
   ],
   "source": [
    "# Global variable can access anywhere in the program\n",
    "gvalue"
   ]
  },
  {
   "cell_type": "code",
   "execution_count": 8,
   "id": "c9ff8b6e",
   "metadata": {},
   "outputs": [
    {
     "name": "stdout",
     "output_type": "stream",
     "text": [
      "0\n",
      "1\n"
     ]
    }
   ],
   "source": [
    "func()"
   ]
  },
  {
   "cell_type": "code",
   "execution_count": 9,
   "id": "2de8e5a5",
   "metadata": {},
   "outputs": [
    {
     "name": "stdout",
     "output_type": "stream",
     "text": [
      "The Integer value is 10\n",
      "The Integer value is 10\n"
     ]
    }
   ],
   "source": [
    "# Typecasting\n",
    "# str() function - Integer to String\n",
    "int_val = 10 \n",
    "print(\"The Integer value is\", int_val)\n",
    "print(\"The Integer value is\", str(int_val))"
   ]
  },
  {
   "cell_type": "code",
   "execution_count": 10,
   "id": "fdc94d48",
   "metadata": {},
   "outputs": [
    {
     "name": "stdout",
     "output_type": "stream",
     "text": [
      "10.5\n",
      "10\n"
     ]
    }
   ],
   "source": [
    "# int() function - Floating point to Integer\n",
    "float_val = 10.50\n",
    "int_val = int(float_val)\n",
    "print(float_val)\n",
    "print(int_val)"
   ]
  },
  {
   "cell_type": "code",
   "execution_count": 11,
   "id": "2745f22d",
   "metadata": {},
   "outputs": [
    {
     "name": "stdout",
     "output_type": "stream",
     "text": [
      "100\n",
      "100.0\n"
     ]
    }
   ],
   "source": [
    "# float() function - Integer to Floating point\n",
    "int_val = 100\n",
    "float_val = float(int_val)\n",
    "print(int_val)\n",
    "print(float_val)"
   ]
  },
  {
   "cell_type": "code",
   "execution_count": null,
   "id": "33e8cd9e",
   "metadata": {},
   "outputs": [],
   "source": []
  }
 ],
 "metadata": {
  "kernelspec": {
   "display_name": "Python 3",
   "language": "python",
   "name": "python3"
  },
  "language_info": {
   "codemirror_mode": {
    "name": "ipython",
    "version": 3
   },
   "file_extension": ".py",
   "mimetype": "text/x-python",
   "name": "python",
   "nbconvert_exporter": "python",
   "pygments_lexer": "ipython3",
   "version": "3.9.5"
  }
 },
 "nbformat": 4,
 "nbformat_minor": 5
}
