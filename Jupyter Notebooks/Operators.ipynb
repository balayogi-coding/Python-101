{
 "cells": [
  {
   "cell_type": "markdown",
   "id": "7dfd307a",
   "metadata": {},
   "source": [
    "# Operators"
   ]
  },
  {
   "cell_type": "markdown",
   "id": "7dcc5d46",
   "metadata": {},
   "source": [
    "<h3><b>Arithmetic operators</b></h3>"
   ]
  },
  {
   "cell_type": "code",
   "execution_count": 1,
   "id": "e5eaff9c",
   "metadata": {},
   "outputs": [],
   "source": [
    "# Variables\n",
    "a = 10\n",
    "b = 20"
   ]
  },
  {
   "cell_type": "code",
   "execution_count": 2,
   "id": "c957e3fb",
   "metadata": {},
   "outputs": [
    {
     "data": {
      "text/plain": [
       "30"
      ]
     },
     "execution_count": 2,
     "metadata": {},
     "output_type": "execute_result"
    }
   ],
   "source": [
    "a+b"
   ]
  },
  {
   "cell_type": "code",
   "execution_count": 3,
   "id": "4417d8d3",
   "metadata": {},
   "outputs": [
    {
     "data": {
      "text/plain": [
       "-10"
      ]
     },
     "execution_count": 3,
     "metadata": {},
     "output_type": "execute_result"
    }
   ],
   "source": [
    "a-b"
   ]
  },
  {
   "cell_type": "code",
   "execution_count": 4,
   "id": "c05c2fd4",
   "metadata": {},
   "outputs": [
    {
     "data": {
      "text/plain": [
       "200"
      ]
     },
     "execution_count": 4,
     "metadata": {},
     "output_type": "execute_result"
    }
   ],
   "source": [
    "a*b"
   ]
  },
  {
   "cell_type": "code",
   "execution_count": 35,
   "id": "47bf2c8d",
   "metadata": {},
   "outputs": [
    {
     "name": "stdout",
     "output_type": "stream",
     "text": [
      "32\n"
     ]
    }
   ],
   "source": [
    "# To find Exponentiation \n",
    "a**b\n",
    "\n",
    "print(2**5)"
   ]
  },
  {
   "cell_type": "code",
   "execution_count": 6,
   "id": "91d88466",
   "metadata": {},
   "outputs": [
    {
     "data": {
      "text/plain": [
       "0.5"
      ]
     },
     "execution_count": 6,
     "metadata": {},
     "output_type": "execute_result"
    }
   ],
   "source": [
    "a/b"
   ]
  },
  {
   "cell_type": "code",
   "execution_count": 7,
   "id": "8be2f9bf",
   "metadata": {},
   "outputs": [],
   "source": [
    "c = 100\n",
    "d = 14"
   ]
  },
  {
   "cell_type": "code",
   "execution_count": 9,
   "id": "802eac48",
   "metadata": {},
   "outputs": [
    {
     "data": {
      "text/plain": [
       "7.142857142857143"
      ]
     },
     "execution_count": 9,
     "metadata": {},
     "output_type": "execute_result"
    }
   ],
   "source": [
    "c/d"
   ]
  },
  {
   "cell_type": "code",
   "execution_count": 8,
   "id": "040f0338",
   "metadata": {},
   "outputs": [
    {
     "data": {
      "text/plain": [
       "7"
      ]
     },
     "execution_count": 8,
     "metadata": {},
     "output_type": "execute_result"
    }
   ],
   "source": [
    "# To remove the decimal values also called as Floor division\n",
    "c//d"
   ]
  },
  {
   "cell_type": "markdown",
   "id": "5bc8eb04",
   "metadata": {},
   "source": [
    "<h3><b>Logical operators</b></h3>"
   ]
  },
  {
   "cell_type": "code",
   "execution_count": 18,
   "id": "67102aa6",
   "metadata": {},
   "outputs": [],
   "source": [
    "# Variables\n",
    "x = 10\n",
    "y = 20\n",
    "z = 10"
   ]
  },
  {
   "cell_type": "code",
   "execution_count": 19,
   "id": "bfeac859",
   "metadata": {},
   "outputs": [
    {
     "data": {
      "text/plain": [
       "False"
      ]
     },
     "execution_count": 19,
     "metadata": {},
     "output_type": "execute_result"
    }
   ],
   "source": [
    "# (x < y) => 10 < 20 = True\n",
    "# (x > z) => 10 > 10 = False\n",
    "# AND is a multiplication operation. \n",
    "# If both are true then result is true otherwise false\n",
    "# 1 x 0 = 0\n",
    "(x < y) and (x > z)"
   ]
  },
  {
   "cell_type": "code",
   "execution_count": 20,
   "id": "3ffaacc7",
   "metadata": {},
   "outputs": [
    {
     "data": {
      "text/plain": [
       "True"
      ]
     },
     "execution_count": 20,
     "metadata": {},
     "output_type": "execute_result"
    }
   ],
   "source": [
    "# (x < y) => 10 < 20 = True\n",
    "# (x > z) => 10 > 10 = False\n",
    "# OR is a addition operation. \n",
    "# If any one is true then result is true otherwise false\n",
    "# 1 + 0 = 1\n",
    "(x < y) or (x > z)"
   ]
  },
  {
   "cell_type": "code",
   "execution_count": 23,
   "id": "433a22d9",
   "metadata": {},
   "outputs": [
    {
     "data": {
      "text/plain": [
       "False"
      ]
     },
     "execution_count": 23,
     "metadata": {},
     "output_type": "execute_result"
    }
   ],
   "source": [
    "# not (x < y) => 10 < 20 = Not (True) = False\n",
    "# (x > z) => 10 > 10 = False\n",
    "# AND is a multiplication operation. \n",
    "# Change the value to opposite. \n",
    "# ~(1) x 0 = 0\n",
    "not (x < y) and (x > z)"
   ]
  },
  {
   "cell_type": "markdown",
   "id": "83ae0eb6",
   "metadata": {},
   "source": [
    "<h3><b>Comparison / Relational operators</b></h3>"
   ]
  },
  {
   "cell_type": "code",
   "execution_count": 11,
   "id": "67115161",
   "metadata": {},
   "outputs": [],
   "source": [
    "# Variables\n",
    "x = 10\n",
    "y = 20\n",
    "z = 10"
   ]
  },
  {
   "cell_type": "code",
   "execution_count": 12,
   "id": "9b9791cd",
   "metadata": {},
   "outputs": [
    {
     "data": {
      "text/plain": [
       "True"
      ]
     },
     "execution_count": 12,
     "metadata": {},
     "output_type": "execute_result"
    }
   ],
   "source": [
    "x < 20"
   ]
  },
  {
   "cell_type": "code",
   "execution_count": 13,
   "id": "8aa68f84",
   "metadata": {},
   "outputs": [
    {
     "data": {
      "text/plain": [
       "False"
      ]
     },
     "execution_count": 13,
     "metadata": {},
     "output_type": "execute_result"
    }
   ],
   "source": [
    "x > 20"
   ]
  },
  {
   "cell_type": "code",
   "execution_count": 14,
   "id": "1cec8755",
   "metadata": {},
   "outputs": [
    {
     "data": {
      "text/plain": [
       "True"
      ]
     },
     "execution_count": 14,
     "metadata": {},
     "output_type": "execute_result"
    }
   ],
   "source": [
    "x != y"
   ]
  },
  {
   "cell_type": "code",
   "execution_count": 15,
   "id": "9607653b",
   "metadata": {},
   "outputs": [
    {
     "data": {
      "text/plain": [
       "False"
      ]
     },
     "execution_count": 15,
     "metadata": {},
     "output_type": "execute_result"
    }
   ],
   "source": [
    "x != z"
   ]
  },
  {
   "cell_type": "code",
   "execution_count": 16,
   "id": "52b9cb53",
   "metadata": {},
   "outputs": [
    {
     "data": {
      "text/plain": [
       "True"
      ]
     },
     "execution_count": 16,
     "metadata": {},
     "output_type": "execute_result"
    }
   ],
   "source": [
    "x == z"
   ]
  },
  {
   "cell_type": "code",
   "execution_count": 17,
   "id": "07f216c7",
   "metadata": {},
   "outputs": [
    {
     "data": {
      "text/plain": [
       "False"
      ]
     },
     "execution_count": 17,
     "metadata": {},
     "output_type": "execute_result"
    }
   ],
   "source": [
    "x == y"
   ]
  },
  {
   "cell_type": "markdown",
   "id": "419a2114",
   "metadata": {},
   "source": [
    "<h3><b>Assignment operators</b></h3>"
   ]
  },
  {
   "cell_type": "code",
   "execution_count": 25,
   "id": "737e1e66",
   "metadata": {},
   "outputs": [],
   "source": [
    "a = 10\n",
    "b = 20"
   ]
  },
  {
   "cell_type": "code",
   "execution_count": 28,
   "id": "e432a416",
   "metadata": {},
   "outputs": [
    {
     "name": "stdout",
     "output_type": "stream",
     "text": [
      "10\n",
      "20\n"
     ]
    }
   ],
   "source": [
    "print(a) \n",
    "print(b)"
   ]
  },
  {
   "cell_type": "markdown",
   "id": "003ca623",
   "metadata": {},
   "source": [
    "<h3><b>Bitwise operators</b></h3>"
   ]
  },
  {
   "cell_type": "code",
   "execution_count": 36,
   "id": "e5f7100f",
   "metadata": {},
   "outputs": [
    {
     "name": "stdout",
     "output_type": "stream",
     "text": [
      "a & b = 0\n"
     ]
    }
   ],
   "source": [
    "# Variable declarations\n",
    "a = 10\n",
    "b = 4\n",
    " \n",
    "# Print bitwise AND operation\n",
    "print(\"a & b =\", a & b)"
   ]
  },
  {
   "cell_type": "code",
   "execution_count": 37,
   "id": "636cc026",
   "metadata": {},
   "outputs": [
    {
     "name": "stdout",
     "output_type": "stream",
     "text": [
      "a | b = 14\n"
     ]
    }
   ],
   "source": [
    "# Print bitwise OR operation\n",
    "print(\"a | b =\", a | b)"
   ]
  },
  {
   "cell_type": "code",
   "execution_count": 38,
   "id": "b6689794",
   "metadata": {},
   "outputs": [
    {
     "name": "stdout",
     "output_type": "stream",
     "text": [
      "~a = -11\n"
     ]
    }
   ],
   "source": [
    "# Print bitwise NOT operation\n",
    "print(\"~a =\", ~a)"
   ]
  },
  {
   "cell_type": "code",
   "execution_count": 39,
   "id": "ef320284",
   "metadata": {},
   "outputs": [
    {
     "name": "stdout",
     "output_type": "stream",
     "text": [
      "a ^ b = 14\n"
     ]
    }
   ],
   "source": [
    "# print bitwise XOR operation\n",
    "print(\"a ^ b =\", a ^ b)"
   ]
  },
  {
   "cell_type": "markdown",
   "id": "9789cf25",
   "metadata": {},
   "source": [
    "<h3><b>Identity operators</b></h3>"
   ]
  },
  {
   "cell_type": "code",
   "execution_count": 29,
   "id": "3beabc96",
   "metadata": {},
   "outputs": [],
   "source": [
    "# Variable declation\n",
    "\n",
    "a = 10\n",
    "b = 20"
   ]
  },
  {
   "cell_type": "code",
   "execution_count": 30,
   "id": "563a4a9e",
   "metadata": {},
   "outputs": [
    {
     "data": {
      "text/plain": [
       "False"
      ]
     },
     "execution_count": 30,
     "metadata": {},
     "output_type": "execute_result"
    }
   ],
   "source": [
    "a is b"
   ]
  },
  {
   "cell_type": "code",
   "execution_count": 31,
   "id": "05401238",
   "metadata": {},
   "outputs": [
    {
     "data": {
      "text/plain": [
       "True"
      ]
     },
     "execution_count": 31,
     "metadata": {},
     "output_type": "execute_result"
    }
   ],
   "source": [
    "a is not b"
   ]
  },
  {
   "cell_type": "markdown",
   "id": "fa519fd8",
   "metadata": {},
   "source": [
    "<h3><b>Membership operators</b></h3>"
   ]
  },
  {
   "cell_type": "code",
   "execution_count": 32,
   "id": "55530aa6",
   "metadata": {},
   "outputs": [],
   "source": [
    "a = 10\n",
    "b = 20\n",
    "\n",
    "list_a = [10,40,50,60,70]"
   ]
  },
  {
   "cell_type": "code",
   "execution_count": 33,
   "id": "c5edadec",
   "metadata": {},
   "outputs": [
    {
     "data": {
      "text/plain": [
       "True"
      ]
     },
     "execution_count": 33,
     "metadata": {},
     "output_type": "execute_result"
    }
   ],
   "source": [
    "# 10 present in the list\n",
    "a in list_a"
   ]
  },
  {
   "cell_type": "code",
   "execution_count": 34,
   "id": "8945560c",
   "metadata": {},
   "outputs": [
    {
     "data": {
      "text/plain": [
       "True"
      ]
     },
     "execution_count": 34,
     "metadata": {},
     "output_type": "execute_result"
    }
   ],
   "source": [
    "# 20 not present in the list\n",
    "b not in list_a"
   ]
  }
 ],
 "metadata": {
  "kernelspec": {
   "display_name": "Python 3",
   "language": "python",
   "name": "python3"
  },
  "language_info": {
   "codemirror_mode": {
    "name": "ipython",
    "version": 3
   },
   "file_extension": ".py",
   "mimetype": "text/x-python",
   "name": "python",
   "nbconvert_exporter": "python",
   "pygments_lexer": "ipython3",
   "version": "3.9.5"
  }
 },
 "nbformat": 4,
 "nbformat_minor": 5
}
