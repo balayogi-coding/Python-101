{
 "cells": [
  {
   "cell_type": "markdown",
   "id": "9100af8f",
   "metadata": {},
   "source": [
    "<center><h6>In programming, the hard part is not solving the problems, but deciding what problems to solve - <b>PAUL GRAHAM</b></h6></center>"
   ]
  },
  {
   "cell_type": "markdown",
   "id": "1a3ef313",
   "metadata": {},
   "source": [
    "<center><h1>File handling</h1></center>"
   ]
  },
  {
   "cell_type": "markdown",
   "id": "c00349a6",
   "metadata": {},
   "source": [
    "<p>File handling is a process of handling files with various file formats.</p><br>\n",
    "<p>Handling can be done with,</p>\n",
    "<ol>\n",
    "    <li>Reading a file</li>\n",
    "    <li>Writing to file</li>\n",
    "    <li>Appending to file</li>\n",
    "</ol>"
   ]
  },
  {
   "cell_type": "markdown",
   "id": "282fbd61",
   "metadata": {},
   "source": [
    "<h3>Reading a file</h3>"
   ]
  },
  {
   "cell_type": "code",
   "execution_count": 2,
   "id": "41b85be1",
   "metadata": {},
   "outputs": [
    {
     "name": "stdout",
     "output_type": "stream",
     "text": [
      "Hello world\n",
      "Good world\n"
     ]
    }
   ],
   "source": [
    "# Reading a file - already have a file in folder Files/sample.txt\n",
    "\n",
    "file = open(\"Files/sample.txt\") # or open(\"filename\",\"r\")\n",
    "content = file.read()\n",
    "print(content)"
   ]
  },
  {
   "cell_type": "code",
   "execution_count": 3,
   "id": "48e1475c",
   "metadata": {},
   "outputs": [
    {
     "name": "stdout",
     "output_type": "stream",
     "text": [
      "x,y\n",
      "1,5\n",
      "4,20\n",
      "6,30\n",
      "2,10\n",
      "3,15\n",
      "5,25\n",
      "8,40\n",
      "9,45\n",
      "1,5\n",
      "6,30\n",
      "9,45\n",
      "10,50\n",
      "5,25\n",
      "7,35\n"
     ]
    }
   ],
   "source": [
    "# Reading a csv file\n",
    "file2 = open(\"Files/Data.csv\")\n",
    "content = file2.read()\n",
    "print(content)"
   ]
  },
  {
   "cell_type": "markdown",
   "id": "1358c259",
   "metadata": {},
   "source": [
    "<h3>Writing to file</h3>"
   ]
  },
  {
   "cell_type": "code",
   "execution_count": 4,
   "id": "bfbf8257",
   "metadata": {},
   "outputs": [],
   "source": [
    "file = open(\"Files/test.txt\",\"w\") # write mode\n",
    "file.write(\"Hello world\\n\")\n",
    "file.write(\"Good world\")\n",
    "file.close()"
   ]
  },
  {
   "cell_type": "code",
   "execution_count": 5,
   "id": "16bdb338",
   "metadata": {},
   "outputs": [
    {
     "name": "stdout",
     "output_type": "stream",
     "text": [
      "Hello world\n",
      "Good world\n"
     ]
    }
   ],
   "source": [
    "file3 = open(\"Files/test.txt\")\n",
    "content = file3.read()\n",
    "print(content)"
   ]
  },
  {
   "cell_type": "markdown",
   "id": "777f2170",
   "metadata": {},
   "source": [
    "<h3>Appending to file</h3>"
   ]
  },
  {
   "cell_type": "code",
   "execution_count": 6,
   "id": "fcf71fcb",
   "metadata": {},
   "outputs": [],
   "source": [
    "file4 = open(\"Files/test.txt\",\"a+\")\n",
    "data_to_add = \"\\nwho are you?\"\n",
    "file4.write(data_to_add)\n",
    "file4.close()"
   ]
  },
  {
   "cell_type": "code",
   "execution_count": 7,
   "id": "c817b759",
   "metadata": {},
   "outputs": [
    {
     "name": "stdout",
     "output_type": "stream",
     "text": [
      "Hello world\n",
      "Good world\n",
      "who are you?\n"
     ]
    }
   ],
   "source": [
    "file5 = open(\"Files/test.txt\")\n",
    "content = file5.read()\n",
    "print(content)"
   ]
  },
  {
   "cell_type": "markdown",
   "id": "8477dfcf",
   "metadata": {},
   "source": [
    "<h3>Clear the content of file</h3>"
   ]
  },
  {
   "cell_type": "code",
   "execution_count": 8,
   "id": "f3c96fc8",
   "metadata": {},
   "outputs": [],
   "source": [
    "file = open(\"Files/test.txt\",\"r+\")\n",
    "file.truncate(0)\n",
    "file.close()"
   ]
  },
  {
   "cell_type": "code",
   "execution_count": 9,
   "id": "e9e6538a",
   "metadata": {},
   "outputs": [
    {
     "name": "stdout",
     "output_type": "stream",
     "text": [
      "\n"
     ]
    }
   ],
   "source": [
    "file6 = open(\"Files/test.txt\")\n",
    "content = file6.read()\n",
    "print(content)"
   ]
  },
  {
   "cell_type": "markdown",
   "id": "c3b8715b",
   "metadata": {},
   "source": [
    "<center><h3>Thank you</h3></center>"
   ]
  }
 ],
 "metadata": {
  "kernelspec": {
   "display_name": "Python 3",
   "language": "python",
   "name": "python3"
  },
  "language_info": {
   "codemirror_mode": {
    "name": "ipython",
    "version": 3
   },
   "file_extension": ".py",
   "mimetype": "text/x-python",
   "name": "python",
   "nbconvert_exporter": "python",
   "pygments_lexer": "ipython3",
   "version": "3.9.5"
  }
 },
 "nbformat": 4,
 "nbformat_minor": 5
}
