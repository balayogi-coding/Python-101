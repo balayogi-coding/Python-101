{
 "cells": [
  {
   "cell_type": "markdown",
   "id": "f860d371",
   "metadata": {},
   "source": [
    "<img src=\"https://qph.fs.quoracdn.net/main-qimg-ff941bc83a79b12d204a025e3d0afbd7.webp\" width=200 height=200>"
   ]
  },
  {
   "cell_type": "markdown",
   "id": "bda96c9d",
   "metadata": {},
   "source": [
    "<center><h2>Exception Handling</h2></center>"
   ]
  },
  {
   "cell_type": "markdown",
   "id": "5f56a61d",
   "metadata": {},
   "source": [
    "<p>When an error occurs, or exception as we call it, Python will normally stop and generate an error message.</p>"
   ]
  },
  {
   "cell_type": "markdown",
   "id": "8fe06a25",
   "metadata": {},
   "source": [
    "<p>The try block lets you test a block of code for errors.</p>\n",
    "\n",
    "<p>The except block lets you handle the error.</p>\n",
    "\n",
    "<p>The finally block lets you execute code, regardless of the result of the try- and except blocks.</p>"
   ]
  },
  {
   "cell_type": "code",
   "execution_count": 1,
   "id": "d878f2a0",
   "metadata": {},
   "outputs": [
    {
     "ename": "NameError",
     "evalue": "name 'y' is not defined",
     "output_type": "error",
     "traceback": [
      "\u001b[1;31m---------------------------------------------------------------------------\u001b[0m",
      "\u001b[1;31mNameError\u001b[0m                                 Traceback (most recent call last)",
      "\u001b[1;32m<ipython-input-1-028c5a64f56a>\u001b[0m in \u001b[0;36m<module>\u001b[1;34m\u001b[0m\n\u001b[1;32m----> 1\u001b[1;33m \u001b[0mx\u001b[0m \u001b[1;33m=\u001b[0m \u001b[0my\u001b[0m\u001b[1;33m\u001b[0m\u001b[1;33m\u001b[0m\u001b[0m\n\u001b[0m",
      "\u001b[1;31mNameError\u001b[0m: name 'y' is not defined"
     ]
    }
   ],
   "source": [
    "x = y"
   ]
  },
  {
   "cell_type": "code",
   "execution_count": 2,
   "id": "b492ac84",
   "metadata": {},
   "outputs": [
    {
     "name": "stdout",
     "output_type": "stream",
     "text": [
      "Variable x not Defined\n"
     ]
    }
   ],
   "source": [
    "#x = \"hello\"\n",
    "try:\n",
    "    print(x)\n",
    "except NameError:\n",
    "    print(\"Variable x not Defined\")"
   ]
  },
  {
   "cell_type": "code",
   "execution_count": 3,
   "id": "22d6d7f7",
   "metadata": {},
   "outputs": [
    {
     "name": "stdout",
     "output_type": "stream",
     "text": [
      "Something went wrong\n",
      "The 'try except' is finished\n"
     ]
    }
   ],
   "source": [
    "try:\n",
    "    print(x)\n",
    "except:\n",
    "    print(\"Something went wrong\")\n",
    "finally:\n",
    "    print(\"The 'try except' is finished\")"
   ]
  },
  {
   "cell_type": "code",
   "execution_count": null,
   "id": "21dafdbf",
   "metadata": {},
   "outputs": [],
   "source": []
  }
 ],
 "metadata": {
  "kernelspec": {
   "display_name": "Python 3",
   "language": "python",
   "name": "python3"
  },
  "language_info": {
   "codemirror_mode": {
    "name": "ipython",
    "version": 3
   },
   "file_extension": ".py",
   "mimetype": "text/x-python",
   "name": "python",
   "nbconvert_exporter": "python",
   "pygments_lexer": "ipython3",
   "version": "3.9.5"
  }
 },
 "nbformat": 4,
 "nbformat_minor": 5
}
