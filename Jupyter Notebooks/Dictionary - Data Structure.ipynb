{
 "cells": [
  {
   "cell_type": "markdown",
   "id": "152e9d36",
   "metadata": {},
   "source": [
    "<div style=\"background-color:white\">\n",
    "<center><h5><i>Every great developer you know got there by solving problems they where unqualified to solve until they acctually did it.</i></h5></center>\n",
    "</div>"
   ]
  },
  {
   "cell_type": "markdown",
   "id": "f72227bd",
   "metadata": {},
   "source": [
    "<center><h2><b>Python - Dictionary Data Strcuture</b></h2></center>"
   ]
  },
  {
   "cell_type": "markdown",
   "id": "9b301d7d",
   "metadata": {},
   "source": [
    "<h3>Definition</h3>"
   ]
  },
  {
   "cell_type": "markdown",
   "id": "5288ba2c",
   "metadata": {},
   "source": [
    "<ol>\n",
    "    <li>Similar to Normal Dictoinary</li>\n",
    "    <li>Store data with key + value pairs</li>\n",
    "    <li>Ordered</li>\n",
    "    <li>Changable or Mutable</li>\n",
    "    <li>Does not allow duplicate values</li>\n",
    "    <li>Denoted with curly brackets - {}</li>\n",
    "</ol>"
   ]
  },
  {
   "cell_type": "markdown",
   "id": "bf79d3cf",
   "metadata": {},
   "source": [
    "<h3>Applications of Dictoinary</h3>"
   ]
  },
  {
   "cell_type": "markdown",
   "id": "9a444f7a",
   "metadata": {},
   "source": [
    "<ul>\n",
    "<li>Record managerment system</li>\n",
    "<li>Banking system</li>\n",
    "<li>Library management system</li>\n",
    "<ul>"
   ]
  },
  {
   "cell_type": "markdown",
   "id": "514cc05b",
   "metadata": {},
   "source": [
    "<h3>How to declare a Dictionary?</h3>"
   ]
  },
  {
   "cell_type": "code",
   "execution_count": 1,
   "id": "4f21f136",
   "metadata": {},
   "outputs": [],
   "source": [
    "# Empty Dictionary\n",
    "myDict = {}\n",
    "\n",
    "# Empty Dictionary using dict() constructor\n",
    "myDict = dict()"
   ]
  },
  {
   "cell_type": "markdown",
   "id": "9261c7bd",
   "metadata": {},
   "source": [
    "<h3>Dictionary Syntax</h3>"
   ]
  },
  {
   "cell_type": "markdown",
   "id": "e41d1309",
   "metadata": {},
   "source": [
    "<center>Dictionary name = { <i>key</i> : <i>value</i> }</center>"
   ]
  },
  {
   "cell_type": "markdown",
   "id": "ab1ee1a8",
   "metadata": {},
   "source": [
    "<h3>Properties of Dictionary</h3>"
   ]
  },
  {
   "cell_type": "markdown",
   "id": "5712dd3a",
   "metadata": {},
   "source": [
    "<ol>\n",
    "    <li>Key and value can be any data type (string, integer, boolean, floating point).</li>\n",
    "    <li>Dictionary can be accessed with key.</li>\n",
    "    <li>Same key can't be used for other items.</li>\n",
    "    <li>Value can be any iterable (list ,tuple, dictionary, set)</li>\n",
    "</ol>"
   ]
  },
  {
   "cell_type": "markdown",
   "id": "d2e55333",
   "metadata": {},
   "source": [
    "<h3>Dictionary intilization</h3>"
   ]
  },
  {
   "cell_type": "code",
   "execution_count": 2,
   "id": "b6e29cef",
   "metadata": {},
   "outputs": [
    {
     "name": "stdout",
     "output_type": "stream",
     "text": [
      "{'name': 'john wick', 'designation': 'manager', 'date-of-joining': '10-05-2020'}\n"
     ]
    }
   ],
   "source": [
    "# Dictionary initialization\n",
    "myDict = {\n",
    "    \"name\":\"john wick\",\n",
    "    \"designation\":\"manager\",\n",
    "    \"date-of-joining\":\"10-05-2020\"\n",
    "}\n",
    "print(myDict)"
   ]
  },
  {
   "cell_type": "code",
   "execution_count": 3,
   "id": "449e1e46",
   "metadata": {},
   "outputs": [
    {
     "name": "stdout",
     "output_type": "stream",
     "text": [
      "{}\n"
     ]
    }
   ],
   "source": [
    "# Clear() - To clear a function\n",
    "\n",
    "myDict.clear()\n",
    "print(myDict)"
   ]
  },
  {
   "cell_type": "code",
   "execution_count": 4,
   "id": "a6e7f62e",
   "metadata": {},
   "outputs": [
    {
     "name": "stdout",
     "output_type": "stream",
     "text": [
      "{'name': 'john wick', 'designation': 'manager', 'date-of-joining': '10-05-2020'}\n",
      "<class 'dict'>\n"
     ]
    }
   ],
   "source": [
    "# Copy() - To copy a dictionary to other variable\n",
    "\n",
    "myDict = {\n",
    "    \"name\":\"john wick\",\n",
    "    \"designation\":\"manager\",\n",
    "    \"date-of-joining\":\"10-05-2020\",\n",
    "}\n",
    "x = myDict.copy()\n",
    "print(x)\n",
    "\n",
    "# To find the type of data\n",
    "print(type(x))"
   ]
  },
  {
   "cell_type": "code",
   "execution_count": 9,
   "id": "2c87eee0",
   "metadata": {},
   "outputs": [
    {
     "name": "stdout",
     "output_type": "stream",
     "text": [
      "{'k1': 0, 'k2': 0, 'k3': 0}\n"
     ]
    }
   ],
   "source": [
    "# fromkeys() - To create a dictionary from mutliple keys and single value\n",
    "\n",
    "x = (\"k1\",\"k2\",\"k3\")\n",
    "y = 0\n",
    "\n",
    "x = dict.fromkeys(x,y)\n",
    "print(x)"
   ]
  },
  {
   "cell_type": "code",
   "execution_count": 12,
   "id": "627b539c",
   "metadata": {},
   "outputs": [
    {
     "name": "stdout",
     "output_type": "stream",
     "text": [
      "{'k1': None, 'k2': None, 'k3': None}\n"
     ]
    }
   ],
   "source": [
    "# Without specifing value in fromkeys method create itself.\n",
    "x = (\"k1\",\"k2\",\"k3\")\n",
    "\n",
    "x = dict.fromkeys(x)\n",
    "print(x)"
   ]
  },
  {
   "cell_type": "markdown",
   "id": "a271a5e2",
   "metadata": {},
   "source": [
    "<h3>Dictionary - Methods</h3>"
   ]
  },
  {
   "cell_type": "code",
   "execution_count": 13,
   "id": "e74344c1",
   "metadata": {},
   "outputs": [
    {
     "name": "stdout",
     "output_type": "stream",
     "text": [
      "john wick\n"
     ]
    }
   ],
   "source": [
    "# get() - To get the item or value from the dictionary with \n",
    "# the specified key\n",
    "\n",
    "myDict = {\n",
    "    \"name\":\"john wick\",\n",
    "    \"designation\":\"manager\",\n",
    "    \"date-of-joining\":\"10-05-2020\",\n",
    "}\n",
    "\n",
    "x = myDict.get('name')\n",
    "print(x)"
   ]
  },
  {
   "cell_type": "code",
   "execution_count": 14,
   "id": "94c99e35",
   "metadata": {},
   "outputs": [
    {
     "name": "stdout",
     "output_type": "stream",
     "text": [
      "dict_items([('name', 'john wick'), ('designation', 'manager'), ('date-of-joining', '10-05-2020')])\n",
      "<class 'dict_items'>\n"
     ]
    }
   ],
   "source": [
    "# items() - To get the dictionary items as list of tuples.\n",
    "\n",
    "myDict = {\n",
    "    \"name\":\"john wick\",\n",
    "    \"designation\":\"manager\",\n",
    "    \"date-of-joining\":\"10-05-2020\"\n",
    "}\n",
    "\n",
    "x = myDict.items()\n",
    "print(x)\n",
    "print(type(x))"
   ]
  },
  {
   "cell_type": "code",
   "execution_count": 15,
   "id": "81415fdb",
   "metadata": {},
   "outputs": [
    {
     "name": "stdout",
     "output_type": "stream",
     "text": [
      "dict_keys(['name', 'designation', 'date-of-joining'])\n",
      "<class 'dict_keys'>\n"
     ]
    }
   ],
   "source": [
    "# keys() - To get all the keys from dictionary\n",
    "\n",
    "myDict = {\n",
    "    \"name\":\"john wick\",\n",
    "    \"designation\":\"manager\",\n",
    "    \"date-of-joining\":\"10-05-2020\",\n",
    "}\n",
    "\n",
    "x = myDict.keys()\n",
    "print(x)\n",
    "print(type(x))"
   ]
  },
  {
   "cell_type": "code",
   "execution_count": 17,
   "id": "08d17dfe",
   "metadata": {},
   "outputs": [
    {
     "name": "stdout",
     "output_type": "stream",
     "text": [
      "Removed value:  manager\n",
      "{'name': 'john wick', 'date-of-joining': '10-05-2020'}\n"
     ]
    }
   ],
   "source": [
    "# pop() - To delete  a item from the dictionary\n",
    "\n",
    "myDict = {\n",
    "    \"name\":\"john wick\",\n",
    "    \"designation\":\"manager\",\n",
    "    \"date-of-joining\":\"10-05-2020\",\n",
    "}\n",
    "\n",
    "x = myDict.pop(\"designation\")\n",
    "print(\"Removed value: \",x)\n",
    "print(myDict)"
   ]
  },
  {
   "cell_type": "code",
   "execution_count": 18,
   "id": "eb84d1cc",
   "metadata": {},
   "outputs": [
    {
     "name": "stdout",
     "output_type": "stream",
     "text": [
      "(1, 'hello')\n",
      "{'name': 'john wick', 'designation': 'manager', 'date-of-joining': '10-05-2020'}\n"
     ]
    }
   ],
   "source": [
    "# popitem() - To remove a last added key-value pair from dictionary\n",
    "\n",
    "myDict = {\n",
    "    \"name\":\"john wick\",\n",
    "    \"designation\":\"manager\",\n",
    "    \"date-of-joining\":\"10-05-2020\",\n",
    "    1:\"hello\"\n",
    "}\n",
    "\n",
    "x = myDict.popitem()\n",
    "print(x)\n",
    "print(myDict)"
   ]
  },
  {
   "cell_type": "code",
   "execution_count": 19,
   "id": "78c2730d",
   "metadata": {},
   "outputs": [
    {
     "name": "stdout",
     "output_type": "stream",
     "text": [
      "john wick\n",
      "may\n",
      "{'name': 'john wick', 'designation': 'manager', 'date-of-joining': '10-05-2020', 'Birth-month': 'may'}\n"
     ]
    }
   ],
   "source": [
    "# setdefault() - To get the value of the specified key\n",
    "\n",
    "myDict = {\n",
    "    \"name\":\"john wick\",\n",
    "    \"designation\":\"manager\",\n",
    "    \"date-of-joining\":\"10-05-2020\"\n",
    "}\n",
    "\n",
    "# getting value with key\n",
    "y = myDict.setdefault(\"name\")\n",
    "print(y)\n",
    "\n",
    "# if not key avaiable it can insert the key with value.\n",
    "x = myDict.setdefault(\"Birth-month\",\"may\")\n",
    "print(x)\n",
    "print(myDict)"
   ]
  },
  {
   "cell_type": "code",
   "execution_count": 20,
   "id": "3791fca1",
   "metadata": {},
   "outputs": [
    {
     "name": "stdout",
     "output_type": "stream",
     "text": [
      "Before update:  {'name': 'john wick', 'designation': 'manager', 'date-of-joining': '10-05-2020'}\n",
      "After update:  {'name': 'john wick', 'designation': 'manager', 'date-of-joining': '10-05-2020', 'ID': 100001}\n"
     ]
    }
   ],
   "source": [
    "# update() - To insert a key-value pair\n",
    "\n",
    "myDict = {\n",
    "    \"name\":\"john wick\",\n",
    "    \"designation\":\"manager\",\n",
    "    \"date-of-joining\":\"10-05-2020\"\n",
    "}\n",
    "\n",
    "print(\"Before update: \",myDict)\n",
    "myDict.update({\"ID\":100001})\n",
    "print(\"After update: \",myDict)"
   ]
  },
  {
   "cell_type": "code",
   "execution_count": 21,
   "id": "e691b32c",
   "metadata": {},
   "outputs": [
    {
     "name": "stdout",
     "output_type": "stream",
     "text": [
      "dict_values(['john wick', 'manager', '10-05-2020'])\n"
     ]
    }
   ],
   "source": [
    "# values() - To get all the values from dictionary\n",
    "\n",
    "myDict = {\n",
    "    \"name\":\"john wick\",\n",
    "    \"designation\":\"manager\",\n",
    "    \"date-of-joining\":\"10-05-2020\"\n",
    "}\n",
    "\n",
    "x = myDict.values()\n",
    "print(x)"
   ]
  },
  {
   "cell_type": "markdown",
   "id": "bbe382e5",
   "metadata": {},
   "source": [
    "<center><h3>Thank you</h3></center>"
   ]
  }
 ],
 "metadata": {
  "kernelspec": {
   "display_name": "Python 3",
   "language": "python",
   "name": "python3"
  },
  "language_info": {
   "codemirror_mode": {
    "name": "ipython",
    "version": 3
   },
   "file_extension": ".py",
   "mimetype": "text/x-python",
   "name": "python",
   "nbconvert_exporter": "python",
   "pygments_lexer": "ipython3",
   "version": "3.9.5"
  }
 },
 "nbformat": 4,
 "nbformat_minor": 5
}
