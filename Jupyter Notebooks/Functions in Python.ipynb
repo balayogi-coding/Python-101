{
 "cells": [
  {
   "cell_type": "markdown",
   "id": "f1066486",
   "metadata": {},
   "source": [
    "<img src=\"https://cdn.shopify.com/s/files/1/0017/0432/9285/files/programming-quotes-for-developers-made4dev-50-90-rule.jpg?v=1539287546\" width=500px height=300px>"
   ]
  },
  {
   "cell_type": "markdown",
   "id": "fa02a812",
   "metadata": {},
   "source": [
    "<center><h2>Functions in Python</h2></center>"
   ]
  },
  {
   "cell_type": "markdown",
   "id": "808ff0f6",
   "metadata": {},
   "source": [
    "<b>What is function?</b>"
   ]
  },
  {
   "cell_type": "markdown",
   "id": "ab966624",
   "metadata": {},
   "source": [
    "A block of code that can be executed whenever the function is called."
   ]
  },
  {
   "cell_type": "code",
   "execution_count": 2,
   "id": "c11fce8f",
   "metadata": {},
   "outputs": [
    {
     "name": "stdout",
     "output_type": "stream",
     "text": [
      "hello\n",
      "<class 'float'>\n",
      "15\n"
     ]
    }
   ],
   "source": [
    "# Built-in function\n",
    "print(\"hello\")\n",
    "print(type(20.5))\n",
    "\n",
    "myList = [1,2,3,4,5]\n",
    "print(sum(myList))"
   ]
  },
  {
   "cell_type": "code",
   "execution_count": 25,
   "id": "28f84e59",
   "metadata": {},
   "outputs": [
    {
     "name": "stdout",
     "output_type": "stream",
     "text": [
      "                     Arithmetic Operations using Functions                      \n",
      "Addition : 30\n",
      "Subtraction : -10\n",
      "Multiplication : 200\n",
      "Division : 0.5\n"
     ]
    }
   ],
   "source": [
    "# User-Defined function\n",
    "def add(val1, val2):\n",
    "    return val1+val2\n",
    "\n",
    "def sub(val1, val2):\n",
    "    return val1-val2\n",
    "\n",
    "def mul(val1, val2):\n",
    "    return val1*val2\n",
    "\n",
    "def div(val1, val2):\n",
    "    return val1/val2\n",
    "        \n",
    "title = \"Arithmetic Operations using Functions\"\n",
    "print(title.center(80))\n",
    "\n",
    "print(\"Addition :\" ,add(10,20))\n",
    "print(\"Subtraction :\" ,sub(10,20))\n",
    "print(\"Multiplication :\" ,mul(10,20))\n",
    "print(\"Division :\" ,div(10,20))"
   ]
  },
  {
   "cell_type": "code",
   "execution_count": 26,
   "id": "f453ba83",
   "metadata": {},
   "outputs": [],
   "source": [
    "# Parametrized and Non-parametrized function\n",
    "def add_p(val1, val2): \n",
    "    return val1+val2\n",
    "\n",
    "def add_np():\n",
    "    val1 = int(input(\"Enter val1: \"))\n",
    "    val2 = int(input(\"Enter val2: \"))\n",
    "    return val1 + val2"
   ]
  },
  {
   "cell_type": "code",
   "execution_count": 27,
   "id": "70277992",
   "metadata": {},
   "outputs": [
    {
     "data": {
      "text/plain": [
       "30"
      ]
     },
     "execution_count": 27,
     "metadata": {},
     "output_type": "execute_result"
    }
   ],
   "source": [
    "add_p(10,20)"
   ]
  },
  {
   "cell_type": "code",
   "execution_count": 28,
   "id": "1471c1d6",
   "metadata": {},
   "outputs": [
    {
     "name": "stdout",
     "output_type": "stream",
     "text": [
      "Enter val1: 30\n",
      "Enter val2: 30\n"
     ]
    },
    {
     "data": {
      "text/plain": [
       "60"
      ]
     },
     "execution_count": 28,
     "metadata": {},
     "output_type": "execute_result"
    }
   ],
   "source": [
    "add_np()"
   ]
  },
  {
   "cell_type": "code",
   "execution_count": 29,
   "id": "d1c2d78d",
   "metadata": {},
   "outputs": [],
   "source": [
    "# Fruitful and Non-fruitful function\n",
    "def add_f(val1, val2): \n",
    "    return val1+val2\n",
    "\n",
    "def add_nf():\n",
    "    val1 = int(input(\"Enter val1: \"))\n",
    "    val2 = int(input(\"Enter val2: \"))\n",
    "    print(val1 + val2)"
   ]
  },
  {
   "cell_type": "code",
   "execution_count": 30,
   "id": "eee26571",
   "metadata": {},
   "outputs": [
    {
     "data": {
      "text/plain": [
       "30"
      ]
     },
     "execution_count": 30,
     "metadata": {},
     "output_type": "execute_result"
    }
   ],
   "source": [
    "add_f(10,20)"
   ]
  },
  {
   "cell_type": "code",
   "execution_count": 31,
   "id": "11e26958",
   "metadata": {},
   "outputs": [
    {
     "name": "stdout",
     "output_type": "stream",
     "text": [
      "Enter val1: 30\n",
      "Enter val2: 30\n",
      "60\n"
     ]
    }
   ],
   "source": [
    "add_nf()"
   ]
  },
  {
   "cell_type": "code",
   "execution_count": 32,
   "id": "4ad895bc",
   "metadata": {},
   "outputs": [
    {
     "name": "stdout",
     "output_type": "stream",
     "text": [
      "10\n"
     ]
    }
   ],
   "source": [
    "# Lamda function\n",
    "# 1. can have any number of arguments but only one expression.\n",
    "# 2. The expression is evaluated and returned. \n",
    "# 3. Lambda functions can be used wherever function objects are required.\n",
    "\n",
    "# Lamda function syntax : lambda argument: expression\n",
    "\n",
    "double = lambda x: x * 2\n",
    "print(double(5))"
   ]
  },
  {
   "cell_type": "code",
   "execution_count": 33,
   "id": "d4749014",
   "metadata": {},
   "outputs": [
    {
     "name": "stdout",
     "output_type": "stream",
     "text": [
      "The factorial of 10 is 3628800\n"
     ]
    }
   ],
   "source": [
    "# Recrusive function\n",
    "# A recursive function can be defined as a \n",
    "# routine that calls itself directly or indirectly.\n",
    "\n",
    "def factorial(x):\n",
    "    \"\"\"This is a recursive function\n",
    "    to find the factorial of an integer\"\"\"\n",
    "\n",
    "    if x == 1:\n",
    "        return 1\n",
    "    else:\n",
    "        return (x * factorial(x-1))\n",
    "\n",
    "num = 10\n",
    "print(\"The factorial of\", num, \"is\", factorial(num))\n"
   ]
  },
  {
   "cell_type": "markdown",
   "id": "eeedae82",
   "metadata": {},
   "source": [
    "<b>Advantages of Recursion</b>\n",
    "1. Recursive functions make the code look clean and elegant.\n",
    "2. A complex task can be broken down into simpler sub-problems using recursion.\n",
    "3. Sequence generation is easier with recursion than using some nested iteration."
   ]
  },
  {
   "cell_type": "markdown",
   "id": "11193153",
   "metadata": {},
   "source": [
    "<b>Disadvantages of Recursion</b>\n",
    "1. Sometimes the logic behind recursion is hard to follow through.\n",
    "2. Recursive calls are expensive (inefficient) as they take up a lot of memory and time.\n",
    "3. Recursive functions are hard to debug."
   ]
  },
  {
   "cell_type": "markdown",
   "id": "590b7cef",
   "metadata": {},
   "source": [
    "<center><h3>Thank you</h3></center>"
   ]
  }
 ],
 "metadata": {
  "kernelspec": {
   "display_name": "Python 3",
   "language": "python",
   "name": "python3"
  },
  "language_info": {
   "codemirror_mode": {
    "name": "ipython",
    "version": 3
   },
   "file_extension": ".py",
   "mimetype": "text/x-python",
   "name": "python",
   "nbconvert_exporter": "python",
   "pygments_lexer": "ipython3",
   "version": "3.9.5"
  }
 },
 "nbformat": 4,
 "nbformat_minor": 5
}
