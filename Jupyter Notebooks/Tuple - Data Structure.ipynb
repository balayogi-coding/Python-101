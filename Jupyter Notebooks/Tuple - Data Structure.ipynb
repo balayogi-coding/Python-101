{
 "cells": [
  {
   "cell_type": "markdown",
   "id": "a07ea0fb",
   "metadata": {},
   "source": [
    "<center><em>Computers are good at following instructions, but not at reading mind.</em></center>\n",
    "<center><b>Donald Knuth</b> - Father of Analysis of algorithms</center>"
   ]
  },
  {
   "cell_type": "markdown",
   "id": "2c8f54a4",
   "metadata": {},
   "source": [
    "<center><img src=\"data:image/jpeg;base64,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\"></center>"
   ]
  },
  {
   "cell_type": "markdown",
   "id": "a6c062c7",
   "metadata": {},
   "source": [
    "# Tuple - Data Structure"
   ]
  },
  {
   "cell_type": "markdown",
   "id": "749cf4fb",
   "metadata": {},
   "source": [
    "<ol>\n",
    "    <li>Ordered or Unmutable container</li>\n",
    "    <li>Allows Duplicate values</li>\n",
    "    <li>Denoted by brackets - ()</li>\n",
    "    <li>Can contain any type of data</li>\n",
    "    <li>Tuples are faster than lists</li>\n",
    "</ol>"
   ]
  },
  {
   "cell_type": "code",
   "execution_count": 1,
   "id": "a82c9873",
   "metadata": {},
   "outputs": [
    {
     "data": {
      "text/plain": [
       "(1, 2, 4, 5)"
      ]
     },
     "execution_count": 1,
     "metadata": {},
     "output_type": "execute_result"
    }
   ],
   "source": [
    "# To Declare Tuple\n",
    "myTuple = ()\n",
    "myTuple = tuple()\n",
    "\n",
    "# To use tuple function - Double brackets are important\n",
    "myTuple = tuple((1,2,4,5))\n",
    "myTuple"
   ]
  },
  {
   "cell_type": "code",
   "execution_count": 2,
   "id": "1b6cd6b3",
   "metadata": {},
   "outputs": [
    {
     "name": "stdout",
     "output_type": "stream",
     "text": [
      "(1, 2, 2, 3, 4, 5)\n",
      "(1, 'hello', 15, 'b', True, 15.7)\n"
     ]
    }
   ],
   "source": [
    "# To initialize a tuple\n",
    "myTuple = (1,2,2,3,4,5)\n",
    "myDiffTuple = (1,\"hello\",15,'b',True,15.7)\n",
    "print(myTuple)\n",
    "print(myDiffTuple)"
   ]
  },
  {
   "cell_type": "code",
   "execution_count": 3,
   "id": "9c00b91e",
   "metadata": {},
   "outputs": [
    {
     "name": "stdout",
     "output_type": "stream",
     "text": [
      "6\n"
     ]
    }
   ],
   "source": [
    "# To len of the tuple\n",
    "print(len(myTuple))"
   ]
  },
  {
   "cell_type": "markdown",
   "id": "a1c17570",
   "metadata": {},
   "source": [
    "<h3>Access items in Tuple</h3>"
   ]
  },
  {
   "cell_type": "code",
   "execution_count": 4,
   "id": "d5e40585",
   "metadata": {},
   "outputs": [
    {
     "name": "stdout",
     "output_type": "stream",
     "text": [
      "banana\n"
     ]
    }
   ],
   "source": [
    "myTuple = (\"apple\", \"banana\", \"cherry\")\n",
    "print(myTuple[1])"
   ]
  },
  {
   "cell_type": "code",
   "execution_count": 5,
   "id": "b3abb904-da11-4075-971b-18904a55df5f",
   "metadata": {},
   "outputs": [
    {
     "name": "stdout",
     "output_type": "stream",
     "text": [
      "('cherry', 'orange', 'kiwi', 'melon', 'mango')\n"
     ]
    }
   ],
   "source": [
    "thistuple = (\"apple\", \"banana\", \"cherry\", \"orange\", \"kiwi\", \"melon\", \"mango\")\n",
    "print(thistuple[2:])"
   ]
  },
  {
   "cell_type": "markdown",
   "id": "ebdddd60",
   "metadata": {},
   "source": [
    "<h3>Tuple Methods</h3>"
   ]
  },
  {
   "cell_type": "code",
   "execution_count": 7,
   "id": "b3428209",
   "metadata": {},
   "outputs": [
    {
     "name": "stdout",
     "output_type": "stream",
     "text": [
      "3\n"
     ]
    }
   ],
   "source": [
    "# Count function - returns the number of times a specified value appears in the tuple.\n",
    "thistuple = (1, 3, 7, 8, 7, 5, 4, 5, 8, 5)\n",
    "x = thistuple.count(5)\n",
    "print(x)"
   ]
  },
  {
   "cell_type": "code",
   "execution_count": 8,
   "id": "5e211b31-1d90-4c40-a312-a0017d00dd49",
   "metadata": {},
   "outputs": [
    {
     "name": "stdout",
     "output_type": "stream",
     "text": [
      "3\n"
     ]
    }
   ],
   "source": [
    "# Index function - finds the first occurrence of the specified value.\n",
    "thistuple = (1, 3, 7, 8, 7, 5, 4, 6, 8, 5)\n",
    "x = thistuple.index(8)\n",
    "print(x)"
   ]
  },
  {
   "cell_type": "markdown",
   "id": "49091518-d11c-4a9c-bfc2-7202ddf06269",
   "metadata": {},
   "source": [
    "<h3>Changing Tuple values</h3>"
   ]
  },
  {
   "cell_type": "code",
   "execution_count": 9,
   "id": "f0d1b6e5-930f-4cf2-81b5-90385f9f1647",
   "metadata": {},
   "outputs": [
    {
     "name": "stdout",
     "output_type": "stream",
     "text": [
      "('a', 'd', 'c')\n"
     ]
    }
   ],
   "source": [
    "# To change the values of the tuple\n",
    "# 1. Convert the Tuple into List.\n",
    "# 2. Change the values of list.\n",
    "# 3. Convert the List to Tuple.\n",
    "\n",
    "x = (\"a\", \"b\", \"c\")\n",
    "y = list(x)\n",
    "y[1] = \"d\"\n",
    "x = tuple(y)\n",
    "print(x)"
   ]
  },
  {
   "cell_type": "code",
   "execution_count": 10,
   "id": "44bd224e-fc81-4da5-a2a3-a9ee4cd6aff7",
   "metadata": {},
   "outputs": [
    {
     "name": "stdout",
     "output_type": "stream",
     "text": [
      "('a', 'b', 'c', 1, 2, 3)\n"
     ]
    }
   ],
   "source": [
    "# To add two or more Tuples\n",
    "tuple1 = (\"a\", \"b\" , \"c\")\n",
    "tuple2 = (1, 2, 3)\n",
    "\n",
    "tuple3 = tuple1 + tuple2\n",
    "print(tuple3)"
   ]
  },
  {
   "cell_type": "markdown",
   "id": "04eedf8f",
   "metadata": {},
   "source": [
    "<h3>List vs Tuple</h3>"
   ]
  },
  {
   "cell_type": "code",
   "execution_count": 11,
   "id": "bb8e818e",
   "metadata": {},
   "outputs": [
    {
     "name": "stdout",
     "output_type": "stream",
     "text": [
      "[    1     3     5 ... 99995 99997 99999]\n"
     ]
    }
   ],
   "source": [
    "import numpy as np\n",
    "import time\n",
    "myList1 = np.arange(1,100000,2)\n",
    "print(myList1)"
   ]
  },
  {
   "cell_type": "code",
   "execution_count": 12,
   "id": "631b5f4b",
   "metadata": {},
   "outputs": [],
   "source": [
    "newList = myList1.tolist()"
   ]
  },
  {
   "cell_type": "code",
   "execution_count": 13,
   "id": "abd99245",
   "metadata": {},
   "outputs": [
    {
     "name": "stdout",
     "output_type": "stream",
     "text": [
      "1624989648.574337\n",
      "1624989648.574337\n"
     ]
    }
   ],
   "source": [
    "print(time.time())\n",
    "newList.index(5907)\n",
    "print(time.time())"
   ]
  },
  {
   "cell_type": "code",
   "execution_count": 14,
   "id": "a8690339",
   "metadata": {},
   "outputs": [
    {
     "data": {
      "text/plain": [
       "0.0017478466033935547"
      ]
     },
     "execution_count": 14,
     "metadata": {},
     "output_type": "execute_result"
    }
   ],
   "source": [
    "s = 1624987476.3526115\n",
    "e = 1624987476.3543594\n",
    "\n",
    "e-s"
   ]
  },
  {
   "cell_type": "code",
   "execution_count": 15,
   "id": "c2591060",
   "metadata": {},
   "outputs": [
    {
     "name": "stdout",
     "output_type": "stream",
     "text": [
      "[    1     3     5 ... 99995 99997 99999]\n"
     ]
    }
   ],
   "source": [
    "import numpy as np\n",
    "import time\n",
    "myList1 = np.arange(1,100000,2)\n",
    "print(myList1)"
   ]
  },
  {
   "cell_type": "code",
   "execution_count": 16,
   "id": "649c6c90",
   "metadata": {},
   "outputs": [],
   "source": [
    "thistuple = tuple((myList1))"
   ]
  },
  {
   "cell_type": "code",
   "execution_count": 17,
   "id": "6dc35657",
   "metadata": {},
   "outputs": [
    {
     "name": "stdout",
     "output_type": "stream",
     "text": [
      "1624989721.545008\n",
      "1624989721.5460045\n"
     ]
    }
   ],
   "source": [
    "print(time.time())\n",
    "thistuple.index(5907)\n",
    "print(time.time())"
   ]
  },
  {
   "cell_type": "code",
   "execution_count": 18,
   "id": "16a0fd2c",
   "metadata": {},
   "outputs": [
    {
     "data": {
      "text/plain": [
       "0.0009975433349609375"
      ]
     },
     "execution_count": 18,
     "metadata": {},
     "output_type": "execute_result"
    }
   ],
   "source": [
    "s = 1624987735.690785\n",
    "e = 1624987735.6917825\n",
    "e-s"
   ]
  },
  {
   "cell_type": "code",
   "execution_count": null,
   "id": "0d3afe50",
   "metadata": {},
   "outputs": [],
   "source": [
    "List = 0.0017478\n",
    "Tuple = 0.000997"
   ]
  },
  {
   "cell_type": "markdown",
   "id": "1b14d761-07c0-40d5-ac32-fd687c57e441",
   "metadata": {},
   "source": [
    "<center><h3>Thank you</h3></center>"
   ]
  }
 ],
 "metadata": {
  "kernelspec": {
   "display_name": "Python 3",
   "language": "python",
   "name": "python3"
  },
  "language_info": {
   "codemirror_mode": {
    "name": "ipython",
    "version": 3
   },
   "file_extension": ".py",
   "mimetype": "text/x-python",
   "name": "python",
   "nbconvert_exporter": "python",
   "pygments_lexer": "ipython3",
   "version": "3.9.5"
  }
 },
 "nbformat": 4,
 "nbformat_minor": 5
}
